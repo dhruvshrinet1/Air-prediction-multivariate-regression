{
 "cells": [
  {
   "cell_type": "code",
   "execution_count": 2,
   "metadata": {},
   "outputs": [],
   "source": [
    "import numpy as np\n",
    "import pandas as pd\n",
    "import matplotlib.pyplot as plt\n",
    "from sklearn.model_selection import train_test_split"
   ]
  },
  {
   "cell_type": "code",
   "execution_count": 3,
   "metadata": {},
   "outputs": [],
   "source": [
    "data = pd.read_csv('/Users/dhruvshrinet/Desktop/Train.csv')"
   ]
  },
  {
   "cell_type": "code",
   "execution_count": 4,
   "metadata": {},
   "outputs": [],
   "source": [
    "data = data.values"
   ]
  },
  {
   "cell_type": "code",
   "execution_count": 5,
   "metadata": {},
   "outputs": [
    {
     "name": "stdout",
     "output_type": "stream",
     "text": [
      "(1600, 5)\n",
      "(1600,)\n"
     ]
    }
   ],
   "source": [
    "x = data[:,:-1]\n",
    "y = data[:,-1]\n",
    "print(x.shape)\n",
    "print(y.shape)"
   ]
  },
  {
   "cell_type": "code",
   "execution_count": 6,
   "metadata": {},
   "outputs": [],
   "source": [
    "xtrain,xtest,ytrain,ytest = train_test_split(x,y,test_size=0.3)"
   ]
  },
  {
   "cell_type": "code",
   "execution_count": 7,
   "metadata": {},
   "outputs": [
    {
     "name": "stdout",
     "output_type": "stream",
     "text": [
      "(1120, 5)\n",
      "(480, 5)\n",
      "(1120,)\n"
     ]
    }
   ],
   "source": [
    "print(xtrain.shape)\n",
    "print(xtest.shape)\n",
    "print(ytrain.shape)\n"
   ]
  },
  {
   "cell_type": "code",
   "execution_count": null,
   "metadata": {},
   "outputs": [],
   "source": []
  },
  {
   "cell_type": "code",
   "execution_count": 8,
   "metadata": {},
   "outputs": [],
   "source": [
    "def hypothesis(x,theta):\n",
    "    return theta[0]+(theta[1]*x[0])+(theta[2]*x[1])+(theta[3]*x[2])+(theta[4]*x[3])+(theta[5]*x[4])\n",
    "   \n",
    "\n",
    "def error(x,y,theta):\n",
    "    m = x.shape[0]\n",
    "    er = 0\n",
    "    for i in range(m):\n",
    "        hx = hypothesis(x[i],theta)\n",
    "        \n",
    "        er += (hx-y[i])**2\n",
    "        \n",
    "    return er\n",
    "\n",
    "def gradient(x,y,theta):\n",
    "    m = x.shape[0]\n",
    "    n = x.shape[1]\n",
    "    grad = np.zeros((n,))\n",
    "    grad_not = np.array([0.0])\n",
    "    for i in range(m):\n",
    "        \n",
    "        grad_not[0] = grad_not[0]+(hypothesis(x[i],theta)-y[i])\n",
    "        for ii in range(n):\n",
    "            \n",
    "            grad[ii]=grad[ii]+(hypothesis(x[i],theta)-y[i])*x[i][ii]\n",
    "            \n",
    "    return np.append(grad_not,grad)\n",
    "\n",
    "def gradient_desc(x,y,learn=0.001):\n",
    "    \n",
    "    itr =0\n",
    "    \n",
    "    m = x.shape[1]\n",
    "    er = []\n",
    "    theta = np.zeros((6,))\n",
    "    while(itr<=200):\n",
    "        grad = gradient(x,y,theta)\n",
    "        e =error(x,y,theta)\n",
    "        er.append(e)\n",
    "        for i in range(6):\n",
    "            \n",
    "            theta[i] = theta[i] - learn*grad[i]\n",
    "        itr+=1\n",
    "        \n",
    "    return theta,er"
   ]
  },
  {
   "cell_type": "code",
   "execution_count": 9,
   "metadata": {},
   "outputs": [
    {
     "data": {
      "text/plain": [
       "array([ 4.99096674, 29.68187118, 92.66247759,  8.28062089, 44.76773522,\n",
       "        2.51916121])"
      ]
     },
     "execution_count": 9,
     "metadata": {},
     "output_type": "execute_result"
    }
   ],
   "source": [
    "theta,er = gradient_desc(x,y)\n",
    "theta"
   ]
  },
  {
   "cell_type": "code",
   "execution_count": 10,
   "metadata": {},
   "outputs": [],
   "source": [
    "a=hypothesis(x[0],theta)\n"
   ]
  },
  {
   "cell_type": "code",
   "execution_count": 11,
   "metadata": {},
   "outputs": [],
   "source": [
    "xtest = pd.read_csv('/Users/dhruvshrinet/Desktop/Test.csv')\n",
    "\n",
    "xtest=xtest.values\n",
    "ytest_v = np.zeros((xtest.shape[0],))"
   ]
  },
  {
   "cell_type": "code",
   "execution_count": 12,
   "metadata": {},
   "outputs": [],
   "source": [
    "for i in range(xtest.shape[0]):\n",
    "    ytest_v[i] = hypothesis(xtest[i],theta)"
   ]
  },
  {
   "cell_type": "code",
   "execution_count": 13,
   "metadata": {},
   "outputs": [],
   "source": [
    "my_dict = {'target':[float(i)for i in ytest_v]}\n",
    "df = pd.DataFrame(my_dict)\n",
    "ytest = df.to_csv('ytest_v.csv',header=\"id\",index=True)"
   ]
  },
  {
   "cell_type": "code",
   "execution_count": null,
   "metadata": {},
   "outputs": [],
   "source": []
  },
  {
   "cell_type": "code",
   "execution_count": 15,
   "metadata": {},
   "outputs": [],
   "source": [
    "from sklearn.linear_model import LinearRegression"
   ]
  },
  {
   "cell_type": "code",
   "execution_count": 16,
   "metadata": {},
   "outputs": [
    {
     "name": "stdout",
     "output_type": "stream",
     "text": [
      "4.9187195738933935\n",
      "[29.93816367 92.78767802  8.23323018 45.00200891  2.50127208]\n",
      "0.9664577280523182\n"
     ]
    }
   ],
   "source": [
    "lr = LinearRegression()\n",
    "lr.fit(xtrain,ytrain)\n",
    "print(lr.intercept_)\n",
    "print(lr.coef_)\n",
    "print(lr.score(xtrain,ytrain))"
   ]
  },
  {
   "cell_type": "code",
   "execution_count": null,
   "metadata": {},
   "outputs": [],
   "source": []
  }
 ],
 "metadata": {
  "kernelspec": {
   "display_name": "Python 3",
   "language": "python",
   "name": "python3"
  },
  "language_info": {
   "codemirror_mode": {
    "name": "ipython",
    "version": 3
   },
   "file_extension": ".py",
   "mimetype": "text/x-python",
   "name": "python",
   "nbconvert_exporter": "python",
   "pygments_lexer": "ipython3",
   "version": "3.6.6"
  },
  "widgets": {
   "application/vnd.jupyter.widget-state+json": {
    "state": {},
    "version_major": 2,
    "version_minor": 0
   }
  }
 },
 "nbformat": 4,
 "nbformat_minor": 2
}
